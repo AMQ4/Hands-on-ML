{
 "cells": [
  {
   "cell_type": "markdown",
   "id": "f6f129be",
   "metadata": {},
   "source": [
    "# Problem Statement"
   ]
  },
  {
   "cell_type": "markdown",
   "id": "9e61be47",
   "metadata": {},
   "source": [
    "Write a function that can shift an MNIST image in any direction\n",
    "(left, right, up, or down) by one pixel. <br>Then, for each image in the\n",
    "training set, create four shifted copies (one per direction) and add\n",
    "them to the training set. Finally, train your best model on this\n",
    "expanded training set and measure its accuracy on the test set."
   ]
  },
  {
   "cell_type": "markdown",
   "id": "4bc99ffa",
   "metadata": {},
   "source": [
    "#### import required packages:"
   ]
  },
  {
   "cell_type": "code",
   "execution_count": 1,
   "id": "3ad5640e",
   "metadata": {},
   "outputs": [],
   "source": [
    "import warnings\n",
    "import matplotlib.pyplot as plt\n",
    "import pandas as pd\n",
    "import numpy as np\n",
    "from sklearn.datasets import fetch_openml\n",
    "from scipy.ndimage import shift\n",
    "from sklearn.model_selection import cross_val_score\n",
    "from sklearn.neighbors import KNeighborsClassifier\n",
    "from sklearn.metrics import *\n",
    "\n",
    "warnings.filterwarnings('ignore') # disable warnnings"
   ]
  },
  {
   "cell_type": "markdown",
   "id": "a49a6b67",
   "metadata": {},
   "source": [
    "#### fetch the data:"
   ]
  },
  {
   "cell_type": "code",
   "execution_count": 2,
   "id": "6fbd0b60",
   "metadata": {},
   "outputs": [],
   "source": [
    "mnist = fetch_openml(\"mnist_784\", version=1)"
   ]
  },
  {
   "cell_type": "code",
   "execution_count": 3,
   "id": "03a82a63",
   "metadata": {},
   "outputs": [],
   "source": [
    "X, y = mnist[\"data\"], mnist[\"target\"]\n",
    "X, y = np.ascontiguousarray(X), np.ascontiguousarray(y)\n",
    "y = y.astype(np.uint8)\n",
    "X_train, X_test, y_train, y_test = X[:60000], X[60000:], y[:60000], y[60000:]"
   ]
  },
  {
   "cell_type": "code",
   "execution_count": 4,
   "id": "0a2cc00a",
   "metadata": {},
   "outputs": [
    {
     "data": {
      "image/png": "[encoded data removed]",
      "text/plain": [
       "<Figure size 640x480 with 1 Axes>"
      ]
     },
     "metadata": {},
     "output_type": "display_data"
    }
   ],
   "source": [
    "def pimg(img):\n",
    "    img.shape = (28, 28)\n",
    "    plt.imshow(img, cmap=plt.cm.binary)\n",
    "    plt.axis(\"off\")\n",
    "    plt.show()\n",
    "    \n",
    "img_number = X_train[0]\n",
    "pimg(img_number)"
   ]
  },
  {
   "cell_type": "markdown",
   "id": "98eac011",
   "metadata": {},
   "source": [
    "#### Shifted image looks like:"
   ]
  },
  {
   "cell_type": "code",
   "execution_count": 5,
   "id": "e581e6df",
   "metadata": {},
   "outputs": [
    {
     "data": {
      "text/plain": [
       "<Figure size 1000x1000 with 0 Axes>"
      ]
     },
     "metadata": {},
     "output_type": "display_data"
    },
    {
     "data": {
      "image/png": "[encoded data removed]",
      "text/plain": [
       "<Figure size 1000x1000 with 4 Axes>"
      ]
     },
     "metadata": {},
     "output_type": "display_data"
    }
   ],
   "source": [
    "plt.figure(figsize=(10, 10))\n",
    "fig, ((ax1, ax2), (ax3, ax4)) = plt.subplots(2, 2, figsize=(10, 10))\n",
    "\n",
    "img_number.shape = (28, 28)\n",
    "\n",
    "ax1.imshow(shift(img_number, [5, 0]), cmap=plt.cm.binary)\n",
    "ax2.imshow(shift(img_number, [0, -5]), cmap=plt.cm.binary)\n",
    "ax3.imshow(shift(img_number, [-5, 0]), cmap=plt.cm.binary)\n",
    "ax4.imshow(shift(img_number, [0, 5]), cmap=plt.cm.binary)\n",
    "\n",
    "plt.show()"
   ]
  },
  {
   "cell_type": "markdown",
   "id": "0aa11b33",
   "metadata": {},
   "source": [
    "####  now, starting with data augmentation:"
   ]
  },
  {
   "cell_type": "code",
   "execution_count": 6,
   "id": "86f613ac",
   "metadata": {},
   "outputs": [],
   "source": [
    "X_train_shifted = np.array([X_train.copy()] * 5)\n",
    "y_train = np.array([y_train.copy()] * 5)\n",
    "dirs = [(0, 1), (0, -1), (1, 0), (-1, 0)]\n",
    "\n",
    "for i, _dir in enumerate(dirs):\n",
    "    if i == 4:\n",
    "        break\n",
    "        \n",
    "    for j in range(len(X_train_shifted[i])):\n",
    "        img = X_train[j].reshape(28, 28)\n",
    "        shifted_img = shift(img, _dir, mode='nearest')\n",
    "        X_train_shifted[i, j] = shifted_img.flatten()\n"
   ]
  },
  {
   "cell_type": "code",
   "execution_count": 7,
   "id": "55f0c8d4",
   "metadata": {},
   "outputs": [
    {
     "data": {
      "text/plain": [
       "((300000, 784), (300000,))"
      ]
     },
     "execution_count": 7,
     "metadata": {},
     "output_type": "execute_result"
    }
   ],
   "source": [
    "X_augmented = np.vstack(X_train_shifted)\n",
    "y_train.shape = (5 * 60000,)\n",
    "(X_augmented.shape),(y_train.shape)"
   ]
  },
  {
   "cell_type": "markdown",
   "id": "52c5ce1e",
   "metadata": {},
   "source": [
    "#### it's time to train the model on the new dataset:"
   ]
  },
  {
   "cell_type": "code",
   "execution_count": 8,
   "id": "3b530ecf",
   "metadata": {},
   "outputs": [],
   "source": [
    "knn_clf = KNeighborsClassifier(n_neighbors=3, n_jobs=-1)\n",
    "knn_clf.fit(X_augmented, y_train)\n",
    "y_pred = knn_clf.predict(X_augmented)"
   ]
  },
  {
   "cell_type": "code",
   "execution_count": 9,
   "id": "29cb6017",
   "metadata": {},
   "outputs": [
    {
     "data": {
      "text/plain": [
       "0.9948166666666667"
      ]
     },
     "execution_count": 9,
     "metadata": {},
     "output_type": "execute_result"
    }
   ],
   "source": [
    "accuracy_score(y_true=y_train, y_pred=y_pred)"
   ]
  },
  {
   "cell_type": "markdown",
   "id": "2727b512",
   "metadata": {},
   "source": [
    "#### now, test how it is performs on unseen data:"
   ]
  },
  {
   "cell_type": "code",
   "execution_count": 11,
   "id": "e203094f",
   "metadata": {},
   "outputs": [
    {
     "data": {
      "text/plain": [
       "0.9756"
      ]
     },
     "execution_count": 11,
     "metadata": {},
     "output_type": "execute_result"
    }
   ],
   "source": [
    "y_test_pred = knn_clf.predict(X_test)\n",
    "accuracy_score(y_true=y_test, y_pred=y_test_pred)"
   ]
  },
  {
   "cell_type": "code",
   "execution_count": null,
   "id": "18a2a4ab",
   "metadata": {},
   "outputs": [],
   "source": []
  }
 ],
 "metadata": {
  "kernelspec": {
   "display_name": "Python 3 (ipykernel)",
   "language": "python",
   "name": "python3"
  },
  "language_info": {
   "codemirror_mode": {
    "name": "ipython",
    "version": 3
   },
   "file_extension": ".py",
   "mimetype": "text/x-python",
   "name": "python",
   "nbconvert_exporter": "python",
   "pygments_lexer": "ipython3",
   "version": "3.11.5"
  }
 },
 "nbformat": 4,
 "nbformat_minor": 5
}
