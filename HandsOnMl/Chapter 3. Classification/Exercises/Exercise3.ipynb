{
 "cells": [
  {
   "cell_type": "markdown",
   "id": "9fcde019",
   "metadata": {},
   "source": [
    "# Problem statement"
   ]
  },
  {
   "cell_type": "markdown",
   "id": "c77c1e1d",
   "metadata": {},
   "source": [
    "Tackle the Titanic dataset. A great place to start is on [Kaggle](https://www.kaggle.com/c/titanic/overview)."
   ]
  },
  {
   "cell_type": "markdown",
   "id": "60eb20c3",
   "metadata": {},
   "source": [
    "Following the Machine Learning project checklist from Hands-On Machine Learning refference, starting with:\n",
    "## 1. Frame the problem and look at the big picture."
   ]
  },
  {
   "cell_type": "markdown",
   "id": "9f93bc3a",
   "metadata": {},
   "source": [
    "By considering this overview about the problme:\n",
    "\n",
    "\n",
    "*The sinking of the Titanic is one of the most infamous shipwrecks in history.\n",
    "\n",
    "*On April 15, 1912, during her maiden voyage, the widely considered “unsinkable” RMS Titanic sank after colliding with an iceberg. Unfortunately, there weren’t enough lifeboats for everyone onboard, resulting in the death of 1502 out of 2224 passengers and crew.*\n",
    "\n",
    "*While there was some element of luck involved in surviving, it seems some groups of people were more likely to survive than others.*\n",
    "\n",
    "*In this challenge, we ask you to build a predictive model that answers the question: “what sorts of people were more likely to survive?” using passenger data (ie name, age, gender, socio-economic class, etc).*\n",
    "\n",
    "***Goal**<br>\n",
    "It is your job to predict if a passenger survived the sinking of the Titanic or not.\n",
    "For each in the test set, you must predict a 0 or 1 value for the variable.*\n",
    "\n",
    "***Metric**<br>\n",
    "Your score is the percentage of passengers you correctly predict. This is known as accuracy.*\n"
   ]
  },
  {
   "cell_type": "markdown",
   "id": "f06cbde7",
   "metadata": {},
   "source": [
    "Well, it is clearly a typical *supervised* task, and it is also a typical *classification* task, more precisely, it is a *binary classification* task."
   ]
  },
  {
   "cell_type": "markdown",
   "id": "ad29dc0d",
   "metadata": {},
   "source": [
    "## 2. Get the data."
   ]
  },
  {
   "cell_type": "markdown",
   "id": "faa45ae6",
   "metadata": {},
   "source": [
    "import the required modules:"
   ]
  },
  {
   "cell_type": "code",
   "execution_count": 299,
   "id": "42d6bf12",
   "metadata": {},
   "outputs": [],
   "source": [
    "import pandas as pd\n",
    "import numpy as np\n",
    "import matplotlib.pyplot as plt\n",
    "import seaborn as sns\n",
    "import warnings\n",
    "from sklearn.model_selection import train_test_split\n",
    "from scipy.stats import spearmanr\n",
    "from sklearn.impute import SimpleImputer\n",
    "from sklearn.preprocessing import StandardScaler, OneHotEncoder\n",
    "from sklearn.compose import ColumnTransformer\n",
    "from sklearn.pipeline import Pipeline\n",
    "from sklearn.model_selection import cross_val_score, cross_val_predict\n",
    "from sklearn.metrics import accuracy_score\n",
    "from sklearn.metrics import roc_auc_score, roc_curve\n",
    "from sklearn.ensemble import RandomForestClassifier, GradientBoostingClassifier, AdaBoostClassifier\n",
    "from sklearn.svm import SVC\n",
    "from sklearn.linear_model import SGDClassifier\n",
    "from sklearn.naive_bayes import BernoulliNB\n",
    "from sklearn.model_selection import GridSearchCV\n",
    "\n",
    "warnings.filterwarnings('ignore') # disable warnnings"
   ]
  },
  {
   "cell_type": "markdown",
   "id": "685fa252",
   "metadata": {},
   "source": [
    "fetch the data and split it:"
   ]
  },
  {
   "cell_type": "code",
   "execution_count": 72,
   "id": "b606a3ac",
   "metadata": {},
   "outputs": [
    {
     "data": {
      "text/html": [
       "<div>\n",
       "<style scoped>\n",
       "    .dataframe tbody tr th:only-of-type {\n",
       "        vertical-align: middle;\n",
       "    }\n",
       "\n",
       "    .dataframe tbody tr th {\n",
       "        vertical-align: top;\n",
       "    }\n",
       "\n",
       "    .dataframe thead th {\n",
       "        text-align: right;\n",
       "    }\n",
       "</style>\n",
       "<table border=\"1\" class=\"dataframe\">\n",
       "  <thead>\n",
       "    <tr style=\"text-align: right;\">\n",
       "      <th></th>\n",
       "      <th>Survived</th>\n",
       "      <th>Pclass</th>\n",
       "      <th>Name</th>\n",
       "      <th>Sex</th>\n",
       "      <th>Age</th>\n",
       "      <th>SibSp</th>\n",
       "      <th>Parch</th>\n",
       "      <th>Ticket</th>\n",
       "      <th>Fare</th>\n",
       "      <th>Cabin</th>\n",
       "      <th>Embarked</th>\n",
       "    </tr>\n",
       "  </thead>\n",
       "  <tbody>\n",
       "    <tr>\n",
       "      <th>6</th>\n",
       "      <td>0</td>\n",
       "      <td>1</td>\n",
       "      <td>McCarthy, Mr. Timothy J</td>\n",
       "      <td>male</td>\n",
       "      <td>54.0</td>\n",
       "      <td>0</td>\n",
       "      <td>0</td>\n",
       "      <td>17463</td>\n",
       "      <td>51.8625</td>\n",
       "      <td>E46</td>\n",
       "      <td>S</td>\n",
       "    </tr>\n",
       "    <tr>\n",
       "      <th>718</th>\n",
       "      <td>0</td>\n",
       "      <td>3</td>\n",
       "      <td>McEvoy, Mr. Michael</td>\n",
       "      <td>male</td>\n",
       "      <td>NaN</td>\n",
       "      <td>0</td>\n",
       "      <td>0</td>\n",
       "      <td>36568</td>\n",
       "      <td>15.5000</td>\n",
       "      <td>NaN</td>\n",
       "      <td>Q</td>\n",
       "    </tr>\n",
       "    <tr>\n",
       "      <th>685</th>\n",
       "      <td>0</td>\n",
       "      <td>2</td>\n",
       "      <td>Laroche, Mr. Joseph Philippe Lemercier</td>\n",
       "      <td>male</td>\n",
       "      <td>25.0</td>\n",
       "      <td>1</td>\n",
       "      <td>2</td>\n",
       "      <td>SC/Paris 2123</td>\n",
       "      <td>41.5792</td>\n",
       "      <td>NaN</td>\n",
       "      <td>C</td>\n",
       "    </tr>\n",
       "    <tr>\n",
       "      <th>73</th>\n",
       "      <td>0</td>\n",
       "      <td>3</td>\n",
       "      <td>Chronopoulos, Mr. Apostolos</td>\n",
       "      <td>male</td>\n",
       "      <td>26.0</td>\n",
       "      <td>1</td>\n",
       "      <td>0</td>\n",
       "      <td>2680</td>\n",
       "      <td>14.4542</td>\n",
       "      <td>NaN</td>\n",
       "      <td>C</td>\n",
       "    </tr>\n",
       "    <tr>\n",
       "      <th>882</th>\n",
       "      <td>0</td>\n",
       "      <td>3</td>\n",
       "      <td>Dahlberg, Miss. Gerda Ulrika</td>\n",
       "      <td>female</td>\n",
       "      <td>22.0</td>\n",
       "      <td>0</td>\n",
       "      <td>0</td>\n",
       "      <td>7552</td>\n",
       "      <td>10.5167</td>\n",
       "      <td>NaN</td>\n",
       "      <td>S</td>\n",
       "    </tr>\n",
       "  </tbody>\n",
       "</table>\n",
       "</div>"
      ],
      "text/plain": [
       "     Survived  Pclass                                    Name     Sex   Age  \\\n",
       "6           0       1                 McCarthy, Mr. Timothy J    male  54.0   \n",
       "718         0       3                     McEvoy, Mr. Michael    male   NaN   \n",
       "685         0       2  Laroche, Mr. Joseph Philippe Lemercier    male  25.0   \n",
       "73          0       3             Chronopoulos, Mr. Apostolos    male  26.0   \n",
       "882         0       3            Dahlberg, Miss. Gerda Ulrika  female  22.0   \n",
       "\n",
       "     SibSp  Parch         Ticket     Fare Cabin Embarked  \n",
       "6        0      0          17463  51.8625   E46        S  \n",
       "718      0      0          36568  15.5000   NaN        Q  \n",
       "685      1      2  SC/Paris 2123  41.5792   NaN        C  \n",
       "73       1      0           2680  14.4542   NaN        C  \n",
       "882      0      0           7552  10.5167   NaN        S  "
      ]
     },
     "execution_count": 72,
     "metadata": {},
     "output_type": "execute_result"
    }
   ],
   "source": [
    "X = pd.read_csv(\"./train.csv\")\n",
    "X.drop(\"PassengerId\", axis=1, inplace=True)\n",
    "y = X[\"Survived\"]\n",
    "X_train, X_test, y_train, y_test = train_test_split(X, y, test_size=0.33, random_state=42)\n",
    "X_train.head()"
   ]
  },
  {
   "cell_type": "markdown",
   "id": "4155f045",
   "metadata": {},
   "source": [
    "Refer to the data dictionary at the website of the problem to learn more about each attribute."
   ]
  },
  {
   "cell_type": "markdown",
   "id": "175729b0",
   "metadata": {},
   "source": [
    "## 3. Explore the data to gain insights."
   ]
  },
  {
   "cell_type": "code",
   "execution_count": 73,
   "id": "687fa77c",
   "metadata": {},
   "outputs": [
    {
     "data": {
      "text/html": [
       "<div>\n",
       "<style scoped>\n",
       "    .dataframe tbody tr th:only-of-type {\n",
       "        vertical-align: middle;\n",
       "    }\n",
       "\n",
       "    .dataframe tbody tr th {\n",
       "        vertical-align: top;\n",
       "    }\n",
       "\n",
       "    .dataframe thead th {\n",
       "        text-align: right;\n",
       "    }\n",
       "</style>\n",
       "<table border=\"1\" class=\"dataframe\">\n",
       "  <thead>\n",
       "    <tr style=\"text-align: right;\">\n",
       "      <th></th>\n",
       "      <th>Survived</th>\n",
       "      <th>Pclass</th>\n",
       "      <th>Age</th>\n",
       "      <th>SibSp</th>\n",
       "      <th>Parch</th>\n",
       "      <th>Fare</th>\n",
       "    </tr>\n",
       "  </thead>\n",
       "  <tbody>\n",
       "    <tr>\n",
       "      <th>count</th>\n",
       "      <td>596.000000</td>\n",
       "      <td>596.000000</td>\n",
       "      <td>478.000000</td>\n",
       "      <td>596.000000</td>\n",
       "      <td>596.000000</td>\n",
       "      <td>596.000000</td>\n",
       "    </tr>\n",
       "    <tr>\n",
       "      <th>mean</th>\n",
       "      <td>0.372483</td>\n",
       "      <td>2.337248</td>\n",
       "      <td>29.525983</td>\n",
       "      <td>0.577181</td>\n",
       "      <td>0.374161</td>\n",
       "      <td>31.912786</td>\n",
       "    </tr>\n",
       "    <tr>\n",
       "      <th>std</th>\n",
       "      <td>0.483872</td>\n",
       "      <td>0.823207</td>\n",
       "      <td>14.457437</td>\n",
       "      <td>1.229504</td>\n",
       "      <td>0.807072</td>\n",
       "      <td>51.480961</td>\n",
       "    </tr>\n",
       "    <tr>\n",
       "      <th>min</th>\n",
       "      <td>0.000000</td>\n",
       "      <td>1.000000</td>\n",
       "      <td>0.420000</td>\n",
       "      <td>0.000000</td>\n",
       "      <td>0.000000</td>\n",
       "      <td>0.000000</td>\n",
       "    </tr>\n",
       "    <tr>\n",
       "      <th>25%</th>\n",
       "      <td>0.000000</td>\n",
       "      <td>2.000000</td>\n",
       "      <td>20.250000</td>\n",
       "      <td>0.000000</td>\n",
       "      <td>0.000000</td>\n",
       "      <td>7.925000</td>\n",
       "    </tr>\n",
       "    <tr>\n",
       "      <th>50%</th>\n",
       "      <td>0.000000</td>\n",
       "      <td>3.000000</td>\n",
       "      <td>28.000000</td>\n",
       "      <td>0.000000</td>\n",
       "      <td>0.000000</td>\n",
       "      <td>14.454200</td>\n",
       "    </tr>\n",
       "    <tr>\n",
       "      <th>75%</th>\n",
       "      <td>1.000000</td>\n",
       "      <td>3.000000</td>\n",
       "      <td>38.000000</td>\n",
       "      <td>1.000000</td>\n",
       "      <td>0.000000</td>\n",
       "      <td>31.275000</td>\n",
       "    </tr>\n",
       "    <tr>\n",
       "      <th>max</th>\n",
       "      <td>1.000000</td>\n",
       "      <td>3.000000</td>\n",
       "      <td>80.000000</td>\n",
       "      <td>8.000000</td>\n",
       "      <td>6.000000</td>\n",
       "      <td>512.329200</td>\n",
       "    </tr>\n",
       "  </tbody>\n",
       "</table>\n",
       "</div>"
      ],
      "text/plain": [
       "         Survived      Pclass         Age       SibSp       Parch        Fare\n",
       "count  596.000000  596.000000  478.000000  596.000000  596.000000  596.000000\n",
       "mean     0.372483    2.337248   29.525983    0.577181    0.374161   31.912786\n",
       "std      0.483872    0.823207   14.457437    1.229504    0.807072   51.480961\n",
       "min      0.000000    1.000000    0.420000    0.000000    0.000000    0.000000\n",
       "25%      0.000000    2.000000   20.250000    0.000000    0.000000    7.925000\n",
       "50%      0.000000    3.000000   28.000000    0.000000    0.000000   14.454200\n",
       "75%      1.000000    3.000000   38.000000    1.000000    0.000000   31.275000\n",
       "max      1.000000    3.000000   80.000000    8.000000    6.000000  512.329200"
      ]
     },
     "execution_count": 73,
     "metadata": {},
     "output_type": "execute_result"
    }
   ],
   "source": [
    "X_train.describe()"
   ]
  },
  {
   "cell_type": "code",
   "execution_count": 120,
   "id": "618761a5",
   "metadata": {},
   "outputs": [
    {
     "data": {
      "image/png": "[encoded data removed]",
      "text/plain": [
       "<Figure size 1000x500 with 1 Axes>"
      ]
     },
     "metadata": {},
     "output_type": "display_data"
    }
   ],
   "source": [
    "plt.figure(figsize=(10, 5))\n",
    "plt.pie(\n",
    "    [len(survived_ages), len(perished_ages)], labels=[\"Survived\", \"Perished\"],\n",
    "    colors=[\"green\", \"red\"],  autopct='%1.2f%%'\n",
    "    )\n",
    "plt.title(\"Survived status distribution\")\n",
    "plt.show()"
   ]
  },
  {
   "cell_type": "code",
   "execution_count": 124,
   "id": "ddc14ad5",
   "metadata": {
    "scrolled": true
   },
   "outputs": [
    {
     "data": {
      "text/plain": [
       "SignificanceResult(statistic=-0.3166473230319243, pvalue=2.3985194151745787e-15)"
      ]
     },
     "execution_count": 124,
     "metadata": {},
     "output_type": "execute_result"
    }
   ],
   "source": [
    "spearmanr(X_train[\"Survived\"], X_train[\"Pclass\"])"
   ]
  },
  {
   "cell_type": "markdown",
   "id": "10d2c3af",
   "metadata": {},
   "source": [
    "There is a negative moderate relationship between *Pclass*  and *Survived* status, so that, the passengers with higher class numbers have a lower likelihood of survival."
   ]
  },
  {
   "cell_type": "code",
   "execution_count": 28,
   "id": "a52244f4",
   "metadata": {
    "scrolled": true
   },
   "outputs": [
    {
     "data": {
      "text/html": [
       "<div>\n",
       "<style scoped>\n",
       "    .dataframe tbody tr th:only-of-type {\n",
       "        vertical-align: middle;\n",
       "    }\n",
       "\n",
       "    .dataframe tbody tr th {\n",
       "        vertical-align: top;\n",
       "    }\n",
       "\n",
       "    .dataframe thead th {\n",
       "        text-align: right;\n",
       "    }\n",
       "</style>\n",
       "<table border=\"1\" class=\"dataframe\">\n",
       "  <thead>\n",
       "    <tr style=\"text-align: right;\">\n",
       "      <th></th>\n",
       "      <th>Name</th>\n",
       "      <th>Sex</th>\n",
       "      <th>Ticket</th>\n",
       "      <th>Cabin</th>\n",
       "      <th>Embarked</th>\n",
       "    </tr>\n",
       "  </thead>\n",
       "  <tbody>\n",
       "    <tr>\n",
       "      <th>count</th>\n",
       "      <td>596</td>\n",
       "      <td>596</td>\n",
       "      <td>596</td>\n",
       "      <td>134</td>\n",
       "      <td>595</td>\n",
       "    </tr>\n",
       "    <tr>\n",
       "      <th>unique</th>\n",
       "      <td>596</td>\n",
       "      <td>2</td>\n",
       "      <td>480</td>\n",
       "      <td>104</td>\n",
       "      <td>3</td>\n",
       "    </tr>\n",
       "    <tr>\n",
       "      <th>top</th>\n",
       "      <td>McCarthy, Mr. Timothy J</td>\n",
       "      <td>male</td>\n",
       "      <td>CA. 2343</td>\n",
       "      <td>C23 C25 C27</td>\n",
       "      <td>S</td>\n",
       "    </tr>\n",
       "    <tr>\n",
       "      <th>freq</th>\n",
       "      <td>1</td>\n",
       "      <td>390</td>\n",
       "      <td>7</td>\n",
       "      <td>4</td>\n",
       "      <td>437</td>\n",
       "    </tr>\n",
       "  </tbody>\n",
       "</table>\n",
       "</div>"
      ],
      "text/plain": [
       "                           Name   Sex    Ticket        Cabin Embarked\n",
       "count                       596   596       596          134      595\n",
       "unique                      596     2       480          104        3\n",
       "top     McCarthy, Mr. Timothy J  male  CA. 2343  C23 C25 C27        S\n",
       "freq                          1   390         7            4      437"
      ]
     },
     "execution_count": 28,
     "metadata": {},
     "output_type": "execute_result"
    }
   ],
   "source": [
    "X_train.describe(include=[\"object\"])"
   ]
  },
  {
   "cell_type": "markdown",
   "id": "d4f82948",
   "metadata": {},
   "source": [
    "The average passenger *Age* is 30, ranging from 5-month-old babies to 80 years old, and most of them were men (390 out of 596).\n",
    "\n",
    "The majority of passengers were from the third class, since the 50th and 75th percentiles are 3.\n",
    "\n",
    "The mean number of *siblings/spouses* aboard the Titanic was 0.57, indicating that most passengers were found with zero or one sibling/spouse.\n",
    "\n",
    "For *Parch*, the mean was 0.37, indicating that most passengers had fewer than one parent or child on board, as both the 50th and 75th percentiles are 0.\n",
    "\n",
    "The average *Fare* was 31.9 with a high variation of 51 (standard deviation).\n",
    "\n",
    "There are 596 unique passenger names, indicating there are no redundant rows.\n",
    "\n",
    "The *Cabin* column has significant missing data (only 134 out of 596 are recorded).\n",
    "\n",
    "Finally, *Embarked* has three unique values (C, Q, S), with 'S' (Southampton) being the most common embarkation point (437 out of 595)."
   ]
  },
  {
   "cell_type": "markdown",
   "id": "03260918",
   "metadata": {},
   "source": [
    "## 4. Prepare the data to better expose the underlying data patterns to Machine Learning algorithms."
   ]
  },
  {
   "cell_type": "code",
   "execution_count": 135,
   "id": "daf86d8b",
   "metadata": {},
   "outputs": [
    {
     "data": {
      "text/plain": [
       "Survived      0\n",
       "Pclass        0\n",
       "Name          0\n",
       "Sex           0\n",
       "Age         177\n",
       "SibSp         0\n",
       "Parch         0\n",
       "Ticket        0\n",
       "Fare          0\n",
       "Cabin       687\n",
       "Embarked      2\n",
       "dtype: int64"
      ]
     },
     "execution_count": 135,
     "metadata": {},
     "output_type": "execute_result"
    }
   ],
   "source": [
    "X.isna().sum()"
   ]
  },
  {
   "cell_type": "markdown",
   "id": "f9d7d28e",
   "metadata": {},
   "source": [
    "I'll impute the mean *Age* for nan values, and for *Embarked* the mode values (i.e. S).\n",
    "Well, for *Cabin* I'll discard it from the analysis, as well as for *Name*, *Ticket*.\n",
    "\n",
    "Moving forward to built a `pipeline` system."
   ]
  },
  {
   "cell_type": "code",
   "execution_count": 221,
   "id": "43f4c045",
   "metadata": {},
   "outputs": [],
   "source": [
    "num_attribs = [\"Age\", \"SibSp\", \"Parch\", \"Fare\"]\n",
    "cat_attribs = [\"Sex\", \"Embarked\"]\n",
    "\n",
    "num_pipeline = Pipeline([\n",
    "        (\"imp\", SimpleImputer(strategy=\"mean\")),\n",
    "        (\"zscaller\", StandardScaler())\n",
    "    ])\n",
    "\n",
    "cat_pipeline = Pipeline([\n",
    "        (\"imp\", SimpleImputer(strategy=\"most_frequent\")),\n",
    "        (\"enc\", OneHotEncoder())\n",
    "    ])\n",
    "\n",
    "pipeline = ColumnTransformer([\n",
    "    (\"num\", num_pipeline, num_attribs),\n",
    "    (\"cat_sex_emb\", cat_pipeline, [\"Sex\", \"Embarked\"]),\n",
    "    (\"pclass\", \"passthrough\", [\"Pclass\"])\n",
    "])\n"
   ]
  },
  {
   "cell_type": "code",
   "execution_count": 229,
   "id": "cf014d9c",
   "metadata": {
    "scrolled": true
   },
   "outputs": [
    {
     "name": "stderr",
     "output_type": "stream",
     "text": [
      "/home/amq/anaconda3/lib/python3.11/site-packages/sklearn/preprocessing/_encoders.py:972: FutureWarning: `sparse` was renamed to `sparse_output` in version 1.2 and will be removed in 1.4. `sparse_output` is ignored unless you leave `sparse` to its default value.\n",
      "  warnings.warn(\n"
     ]
    }
   ],
   "source": [
    "X_prepared = pipeline.fit_transform(X)"
   ]
  },
  {
   "cell_type": "markdown",
   "id": "99b0c04a",
   "metadata": {},
   "source": [
    "## 5. Explore many different models and shortlist the best ones."
   ]
  },
  {
   "cell_type": "code",
   "execution_count": 277,
   "id": "e561f19a",
   "metadata": {},
   "outputs": [
    {
     "data": {
      "text/plain": [
       "0.8047690387016229"
      ]
     },
     "execution_count": 277,
     "metadata": {},
     "output_type": "execute_result"
    }
   ],
   "source": [
    "knn = KNeighborsClassifier()\n",
    "np.mean(cross_val_score(knn, X_prepared, y, cv=10, scoring=\"accuracy\"))"
   ]
  },
  {
   "cell_type": "markdown",
   "id": "fe961d56",
   "metadata": {},
   "source": [
    "not bad!\n",
    "\n",
    "Lets try some other models."
   ]
  },
  {
   "cell_type": "code",
   "execution_count": 283,
   "id": "c4c36694",
   "metadata": {},
   "outputs": [
    {
     "data": {
      "text/plain": [
       "0.7294506866416979"
      ]
     },
     "execution_count": 283,
     "metadata": {},
     "output_type": "execute_result"
    }
   ],
   "source": [
    "sgd_clf = SGDClassifier()\n",
    "np.mean(cross_val_score(sgd_clf, X_prepared, y, cv=10, scoring=\"accuracy\"))"
   ]
  },
  {
   "cell_type": "code",
   "execution_count": 361,
   "id": "ec1af042",
   "metadata": {},
   "outputs": [
    {
     "data": {
      "text/plain": [
       "0.8271785268414481"
      ]
     },
     "execution_count": 361,
     "metadata": {},
     "output_type": "execute_result"
    }
   ],
   "source": [
    "svc_clf = SVC?\n",
    "np.mean(cross_val_score(svc_clf, X_prepared, y, cv=10, scoring=\"accuracy\"))"
   ]
  },
  {
   "cell_type": "code",
   "execution_count": 285,
   "id": "65237554",
   "metadata": {},
   "outputs": [
    {
     "data": {
      "text/plain": [
       "0.7822471910112359"
      ]
     },
     "execution_count": 285,
     "metadata": {},
     "output_type": "execute_result"
    }
   ],
   "source": [
    "naive_clf = BernoulliNB()\n",
    "np.mean(cross_val_score(naive_clf, X_prepared, y, cv=10, scoring=\"accuracy\"))"
   ]
  },
  {
   "cell_type": "code",
   "execution_count": 286,
   "id": "45f59f44",
   "metadata": {},
   "outputs": [
    {
     "data": {
      "text/plain": [
       "0.8148813982521848"
      ]
     },
     "execution_count": 286,
     "metadata": {},
     "output_type": "execute_result"
    }
   ],
   "source": [
    "forest_clf = RandomForestClassifier()\n",
    "np.mean(cross_val_score(forest_clf, X_prepared, y, cv=10, scoring=\"accuracy\"))"
   ]
  },
  {
   "cell_type": "code",
   "execution_count": 287,
   "id": "b925109e",
   "metadata": {
    "scrolled": true
   },
   "outputs": [
    {
     "data": {
      "text/plain": [
       "0.8070037453183521"
      ]
     },
     "execution_count": 287,
     "metadata": {},
     "output_type": "execute_result"
    }
   ],
   "source": [
    "adab_clf = AdaBoostClassifier()\n",
    "np.mean(cross_val_score(adab_clf, X_prepared, y, cv=10, scoring=\"accuracy\"))"
   ]
  },
  {
   "cell_type": "code",
   "execution_count": 288,
   "id": "72bc4856",
   "metadata": {},
   "outputs": [
    {
     "data": {
      "text/plain": [
       "0.8328089887640449"
      ]
     },
     "execution_count": 288,
     "metadata": {},
     "output_type": "execute_result"
    }
   ],
   "source": [
    "gb_clf = GradientBoostingClassifier()\n",
    "np.mean(cross_val_score(gb_clf, X_prepared, y, cv=10, scoring=\"accuracy\"))"
   ]
  },
  {
   "cell_type": "code",
   "execution_count": 262,
   "id": "f0daed03",
   "metadata": {},
   "outputs": [],
   "source": [
    "def get_wrong_clf(x, y_true):\n",
    "    idx = []\n",
    "    for i in range(len(y_true)):\n",
    "        if x[i] != y_true[i]:\n",
    "            idx.append(i)\n",
    "    return idx"
   ]
  },
  {
   "cell_type": "markdown",
   "id": "97644cc9",
   "metadata": {},
   "source": [
    "All of GradientBoosting, AdaBoost, RandomForest, SVC, and KNN performing well."
   ]
  },
  {
   "cell_type": "markdown",
   "id": "47e7be64",
   "metadata": {},
   "source": [
    "## 6. Fine-tune your models and combine them into a great solution."
   ]
  },
  {
   "cell_type": "markdown",
   "id": "d18c92bc",
   "metadata": {},
   "source": [
    "Starting with KNN:"
   ]
  },
  {
   "cell_type": "code",
   "execution_count": 302,
   "id": "946571f5",
   "metadata": {},
   "outputs": [],
   "source": [
    "param_grid = [{\n",
    "        'weights': [\"uniform\", \"distance\"], \n",
    "        'n_neighbors': range(1, 101)\n",
    "    }]"
   ]
  },
  {
   "cell_type": "code",
   "execution_count": 307,
   "id": "5dd9e1c5",
   "metadata": {},
   "outputs": [],
   "source": [
    "knn_clf = KNeighborsClassifier(n_jobs=-1)\n",
    "grid_search_knn = GridSearchCV(knn_clf, param_grid=param_grid, cv=10, n_jobs=-1, scoring=\"accuracy\")"
   ]
  },
  {
   "cell_type": "code",
   "execution_count": 308,
   "id": "dfc7352e",
   "metadata": {},
   "outputs": [
    {
     "data": {
      "text/plain": [
       "{'n_neighbors': 25, 'weights': 'uniform'}"
      ]
     },
     "execution_count": 308,
     "metadata": {},
     "output_type": "execute_result"
    }
   ],
   "source": [
    "grid_search_knn.fit(X_prepared, y)\n",
    "grid_search_knn.best_params_"
   ]
  },
  {
   "cell_type": "code",
   "execution_count": 309,
   "id": "7975636f",
   "metadata": {
    "scrolled": true
   },
   "outputs": [
    {
     "data": {
      "text/plain": [
       "0.8148689138576779"
      ]
     },
     "execution_count": 309,
     "metadata": {},
     "output_type": "execute_result"
    }
   ],
   "source": [
    "grid_search_knn.best_score_"
   ]
  },
  {
   "cell_type": "code",
   "execution_count": 310,
   "id": "ee3081c2",
   "metadata": {},
   "outputs": [],
   "source": [
    "knn_clf = KNeighborsClassifier(**grid_search_knn.best_params_)"
   ]
  },
  {
   "cell_type": "code",
   "execution_count": 431,
   "id": "b82fb0d9",
   "metadata": {},
   "outputs": [],
   "source": [
    "param_grid_svc = [\n",
    "    {\n",
    "        \"kernel\": ['rbf', 'poly', 'sigmoid'],\n",
    "        \"degree\": [3, 4, 5],\n",
    "        \"C\": [1, 3, 5],\n",
    "        \"shrinking\": [True, False],\n",
    "        \"coef0\": [0.05, 0.07, 0.09]\n",
    "    }\n",
    "]"
   ]
  },
  {
   "cell_type": "code",
   "execution_count": 432,
   "id": "c6083302",
   "metadata": {},
   "outputs": [
    {
     "data": {
      "text/plain": [
       "({'C': 1, 'coef0': 0.07, 'degree': 3, 'kernel': 'poly', 'shrinking': True},\n",
       " 0.8339076154806492)"
      ]
     },
     "execution_count": 432,
     "metadata": {},
     "output_type": "execute_result"
    }
   ],
   "source": [
    "grid_search_svc = GridSearchCV(SVC(), param_grid=param_grid_svc, cv=10, n_jobs=-1, scoring=\"accuracy\")\n",
    "grid_search_svc.fit(X_prepared, y)\n",
    "(grid_search_svc.best_params_), (grid_search_svc.best_score_)"
   ]
  },
  {
   "cell_type": "code",
   "execution_count": 433,
   "id": "812486d2",
   "metadata": {},
   "outputs": [],
   "source": [
    "svc_clf = SVC(**grid_search_svc.best_params_)"
   ]
  },
  {
   "cell_type": "code",
   "execution_count": 453,
   "id": "d9f390bc",
   "metadata": {},
   "outputs": [
    {
     "data": {
      "text/plain": [
       "({'bootstrap': False,\n",
       "  'criterion': 'gini',\n",
       "  'max_leaf_nodes': 36,\n",
       "  'n_estimators': 70},\n",
       " 0.8384019975031212)"
      ]
     },
     "execution_count": 453,
     "metadata": {},
     "output_type": "execute_result"
    }
   ],
   "source": [
    "param_grid_forest = [\n",
    "    {\n",
    "        \"criterion\": [\"gini\", \"entropy\", \"log_loss\"],\n",
    "        \"n_estimators\": range(50, 201, 10),\n",
    "        \"max_leaf_nodes\": range(30, 41, 1), \n",
    "        \"bootstrap\": [True, False]\n",
    "    }\n",
    "]\n",
    "\n",
    "grid_search_forest = GridSearchCV(RandomForestClassifier(), param_grid=param_grid_forest, cv=10, n_jobs=-1, scoring=\"accuracy\")\n",
    "grid_search_forest.fit(X_prepared, y)\n",
    "(grid_search_forest.best_params_), (grid_search_forest.best_score_)"
   ]
  },
  {
   "cell_type": "code",
   "execution_count": 459,
   "id": "8cfe65ef",
   "metadata": {},
   "outputs": [],
   "source": [
    "forest_clf = RandomForestClassifier(**grid_search_forest.best_params_)"
   ]
  },
  {
   "cell_type": "code",
   "execution_count": 483,
   "id": "5016620c",
   "metadata": {},
   "outputs": [
    {
     "data": {
      "text/plain": [
       "({'algorithm': 'SAMME.R',\n",
       "  'estimator': RandomForestClassifier(bootstrap=False, max_leaf_nodes=36, n_estimators=70),\n",
       "  'learning_rate': 0.5,\n",
       "  'n_estimators': 5},\n",
       " 0.8395255930087389)"
      ]
     },
     "execution_count": 483,
     "metadata": {},
     "output_type": "execute_result"
    }
   ],
   "source": [
    "param_grid_adaboost = [\n",
    "    {\n",
    "        \"estimator\": [forest_clf, svc_clf, knn_clf],\n",
    "        \"n_estimators\": range(1, 50),\n",
    "        \"algorithm\" : ['SAMME', 'SAMME.R'],\n",
    "        \"learning_rate\":[0.5, 0.51, 0.55, 0.54]\n",
    "    }\n",
    "]\n",
    "\n",
    "grid_search_adaboost = GridSearchCV(AdaBoostClassifier(), param_grid=param_grid_adaboost, cv=10, n_jobs=-1, scoring=\"accuracy\")\n",
    "grid_search_adaboost.fit(X_prepared, y)\n",
    "(grid_search_adaboost.best_params_), (grid_search_adaboost.best_score_)"
   ]
  },
  {
   "cell_type": "code",
   "execution_count": 486,
   "id": "ab15ea29",
   "metadata": {},
   "outputs": [],
   "source": [
    "adaboost_clf = AdaBoostClassifier(**(grid_search_adaboost.best_params_))"
   ]
  },
  {
   "cell_type": "code",
   "execution_count": 513,
   "id": "662d360d",
   "metadata": {},
   "outputs": [
    {
     "data": {
      "text/plain": [
       "({'init': RandomForestClassifier(bootstrap=False, max_leaf_nodes=36, n_estimators=70),\n",
       "  'learning_rate': 0.4,\n",
       "  'loss': 'exponential',\n",
       "  'max_features': None,\n",
       "  'n_estimators': 32,\n",
       "  'warm_start': True},\n",
       " 0.8440324594257179)"
      ]
     },
     "execution_count": 513,
     "metadata": {},
     "output_type": "execute_result"
    }
   ],
   "source": [
    "param_grid_gradboost = [{\n",
    "    \"loss\": [\"log_loss\", \"exponential\"],\n",
    "    \"learning_rate\": [0.3, 0.4, 0.5, 0.6],\n",
    "    \"n_estimators\": range(25, 36, 1),\n",
    "    \"init\": [adaboost_clf, forest_clf, svc_clf],\n",
    "    \"max_features\" : ['sqrt', 'log2', None],\n",
    "    \"warm_start\": [True, False]\n",
    "}]\n",
    "\n",
    "grid_search_gradboost = GridSearchCV(GradientBoostingClassifier(), param_grid=param_grid_gradboost, cv=10, n_jobs=-1, scoring=\"accuracy\")\n",
    "grid_search_gradboost.fit(X_prepared, y)\n",
    "(grid_search_gradboost.best_params_), (grid_search_gradboost.best_score_)"
   ]
  },
  {
   "cell_type": "code",
   "execution_count": 515,
   "id": "b5f68e83",
   "metadata": {},
   "outputs": [],
   "source": [
    "gradboost_clf = GradientBoostingClassifier(**grid_search_gradboost.best_params_)"
   ]
  },
  {
   "cell_type": "code",
   "execution_count": 521,
   "id": "ec1e7a17",
   "metadata": {},
   "outputs": [
    {
     "data": {
      "text/html": [
       "<style>#sk-container-id-7 {color: black;}#sk-container-id-7 pre{padding: 0;}#sk-container-id-7 div.sk-toggleable {background-color: white;}#sk-container-id-7 label.sk-toggleable__label {cursor: pointer;display: block;width: 100%;margin-bottom: 0;padding: 0.3em;box-sizing: border-box;text-align: center;}#sk-container-id-7 label.sk-toggleable__label-arrow:before {content: \"▸\";float: left;margin-right: 0.25em;color: #696969;}#sk-container-id-7 label.sk-toggleable__label-arrow:hover:before {color: black;}#sk-container-id-7 div.sk-estimator:hover label.sk-toggleable__label-arrow:before {color: black;}#sk-container-id-7 div.sk-toggleable__content {max-height: 0;max-width: 0;overflow: hidden;text-align: left;background-color: #f0f8ff;}#sk-container-id-7 div.sk-toggleable__content pre {margin: 0.2em;color: black;border-radius: 0.25em;background-color: #f0f8ff;}#sk-container-id-7 input.sk-toggleable__control:checked~div.sk-toggleable__content {max-height: 200px;max-width: 100%;overflow: auto;}#sk-container-id-7 input.sk-toggleable__control:checked~label.sk-toggleable__label-arrow:before {content: \"▾\";}#sk-container-id-7 div.sk-estimator input.sk-toggleable__control:checked~label.sk-toggleable__label {background-color: #d4ebff;}#sk-container-id-7 div.sk-label input.sk-toggleable__control:checked~label.sk-toggleable__label {background-color: #d4ebff;}#sk-container-id-7 input.sk-hidden--visually {border: 0;clip: rect(1px 1px 1px 1px);clip: rect(1px, 1px, 1px, 1px);height: 1px;margin: -1px;overflow: hidden;padding: 0;position: absolute;width: 1px;}#sk-container-id-7 div.sk-estimator {font-family: monospace;background-color: #f0f8ff;border: 1px dotted black;border-radius: 0.25em;box-sizing: border-box;margin-bottom: 0.5em;}#sk-container-id-7 div.sk-estimator:hover {background-color: #d4ebff;}#sk-container-id-7 div.sk-parallel-item::after {content: \"\";width: 100%;border-bottom: 1px solid gray;flex-grow: 1;}#sk-container-id-7 div.sk-label:hover label.sk-toggleable__label {background-color: #d4ebff;}#sk-container-id-7 div.sk-serial::before {content: \"\";position: absolute;border-left: 1px solid gray;box-sizing: border-box;top: 0;bottom: 0;left: 50%;z-index: 0;}#sk-container-id-7 div.sk-serial {display: flex;flex-direction: column;align-items: center;background-color: white;padding-right: 0.2em;padding-left: 0.2em;position: relative;}#sk-container-id-7 div.sk-item {position: relative;z-index: 1;}#sk-container-id-7 div.sk-parallel {display: flex;align-items: stretch;justify-content: center;background-color: white;position: relative;}#sk-container-id-7 div.sk-item::before, #sk-container-id-7 div.sk-parallel-item::before {content: \"\";position: absolute;border-left: 1px solid gray;box-sizing: border-box;top: 0;bottom: 0;left: 50%;z-index: -1;}#sk-container-id-7 div.sk-parallel-item {display: flex;flex-direction: column;z-index: 1;position: relative;background-color: white;}#sk-container-id-7 div.sk-parallel-item:first-child::after {align-self: flex-end;width: 50%;}#sk-container-id-7 div.sk-parallel-item:last-child::after {align-self: flex-start;width: 50%;}#sk-container-id-7 div.sk-parallel-item:only-child::after {width: 0;}#sk-container-id-7 div.sk-dashed-wrapped {border: 1px dashed gray;margin: 0 0.4em 0.5em 0.4em;box-sizing: border-box;padding-bottom: 0.4em;background-color: white;}#sk-container-id-7 div.sk-label label {font-family: monospace;font-weight: bold;display: inline-block;line-height: 1.2em;}#sk-container-id-7 div.sk-label-container {text-align: center;}#sk-container-id-7 div.sk-container {/* jupyter's `normalize.less` sets `[hidden] { display: none; }` but bootstrap.min.css set `[hidden] { display: none !important; }` so we also need the `!important` here to be able to override the default hidden behavior on the sphinx rendered scikit-learn.org. See: https://github.com/scikit-learn/scikit-learn/issues/21755 */display: inline-block !important;position: relative;}#sk-container-id-7 div.sk-text-repr-fallback {display: none;}</style><div id=\"sk-container-id-7\" class=\"sk-top-container\"><div class=\"sk-text-repr-fallback\"><pre>KNeighborsClassifier(n_neighbors=25)</pre><b>In a Jupyter environment, please rerun this cell to show the HTML representation or trust the notebook. <br />On GitHub, the HTML representation is unable to render, please try loading this page with nbviewer.org.</b></div><div class=\"sk-container\" hidden><div class=\"sk-item\"><div class=\"sk-estimator sk-toggleable\"><input class=\"sk-toggleable__control sk-hidden--visually\" id=\"sk-estimator-id-7\" type=\"checkbox\" checked><label for=\"sk-estimator-id-7\" class=\"sk-toggleable__label sk-toggleable__label-arrow\">KNeighborsClassifier</label><div class=\"sk-toggleable__content\"><pre>KNeighborsClassifier(n_neighbors=25)</pre></div></div></div></div></div>"
      ],
      "text/plain": [
       "KNeighborsClassifier(n_neighbors=25)"
      ]
     },
     "execution_count": 521,
     "metadata": {},
     "output_type": "execute_result"
    }
   ],
   "source": [
    "gradboost_clf.fit(X_prepared, y)\n",
    "adaboost_clf.fit(X_prepared, y)\n",
    "forest_clf.fit(X_prepared, y)\n",
    "svc_clf.fit(X_prepared, y)\n",
    "knn_clf.fit(X_prepared, y)"
   ]
  },
  {
   "cell_type": "markdown",
   "id": "228dc560",
   "metadata": {},
   "source": [
    "Let's define a function that makes a weighted voting predictions:"
   ]
  },
  {
   "cell_type": "code",
   "execution_count": 562,
   "id": "633abcb8",
   "metadata": {},
   "outputs": [],
   "source": [
    "def weighted_voting_predict(X):\n",
    "    X_predicts = np.empty(X.shape[0])\n",
    "    for i, x in enumerate(X):\n",
    "        surv, perished = (0, 0)\n",
    "        if gradboost_clf.predict([x]) == 1:\n",
    "            surv += grid_search_gradboost.best_score_\n",
    "        else:\n",
    "            perished += grid_search_gradboost.best_score_\n",
    "            \n",
    "        if adaboost_clf.predict([x]) == 1:\n",
    "            surv += grid_search_adaboost.best_score_\n",
    "        else:\n",
    "            perished += grid_search_adaboost.best_score_\n",
    "            \n",
    "        if forest_clf.predict([x]) == 1:\n",
    "            surv += grid_search_forest.best_score_\n",
    "        else:\n",
    "            perished += grid_search_forest.best_score_\n",
    "            \n",
    "        if svc_clf.predict([x]) == 1:\n",
    "            surv += grid_search_svc.best_score_\n",
    "        else:\n",
    "            perished += grid_search_svc.best_score_\n",
    "        \n",
    "        if knn_clf.predict([x]) == 1:\n",
    "            surv += grid_search_knn.best_score_\n",
    "        else:\n",
    "            perished += grid_search_knn.best_score_\n",
    "            \n",
    "        if surv > perished:\n",
    "            X_predicts[i] = 1\n",
    "        else:\n",
    "            X_predicts[i] = 0\n",
    "            \n",
    "    return X_predicts.astype(np.int8)"
   ]
  },
  {
   "cell_type": "code",
   "execution_count": 557,
   "id": "c4605a99",
   "metadata": {},
   "outputs": [
    {
     "data": {
      "text/plain": [
       "0.8900112233445566"
      ]
     },
     "execution_count": 557,
     "metadata": {},
     "output_type": "execute_result"
    }
   ],
   "source": [
    "accuracy_score(y_true=y, y_pred=weighted_voting_predict(X_prepared))"
   ]
  },
  {
   "cell_type": "markdown",
   "id": "ad206cc0",
   "metadata": {},
   "source": [
    "Now, this is much better."
   ]
  },
  {
   "cell_type": "markdown",
   "id": "b51e1cef",
   "metadata": {},
   "source": [
    "## 7. Launch, monitor, and maintain your system."
   ]
  },
  {
   "cell_type": "markdown",
   "id": "14540a6a",
   "metadata": {},
   "source": [
    "Let's now load the test dataset, and call the `weighted_voting_predict` function to make predictions:"
   ]
  },
  {
   "cell_type": "code",
   "execution_count": 563,
   "id": "5d307a54",
   "metadata": {},
   "outputs": [
    {
     "data": {
      "text/html": [
       "<div>\n",
       "<style scoped>\n",
       "    .dataframe tbody tr th:only-of-type {\n",
       "        vertical-align: middle;\n",
       "    }\n",
       "\n",
       "    .dataframe tbody tr th {\n",
       "        vertical-align: top;\n",
       "    }\n",
       "\n",
       "    .dataframe thead th {\n",
       "        text-align: right;\n",
       "    }\n",
       "</style>\n",
       "<table border=\"1\" class=\"dataframe\">\n",
       "  <thead>\n",
       "    <tr style=\"text-align: right;\">\n",
       "      <th></th>\n",
       "      <th>PassengerId</th>\n",
       "      <th>Survived</th>\n",
       "    </tr>\n",
       "  </thead>\n",
       "  <tbody>\n",
       "    <tr>\n",
       "      <th>0</th>\n",
       "      <td>892</td>\n",
       "      <td>0</td>\n",
       "    </tr>\n",
       "    <tr>\n",
       "      <th>1</th>\n",
       "      <td>893</td>\n",
       "      <td>0</td>\n",
       "    </tr>\n",
       "    <tr>\n",
       "      <th>2</th>\n",
       "      <td>894</td>\n",
       "      <td>0</td>\n",
       "    </tr>\n",
       "    <tr>\n",
       "      <th>3</th>\n",
       "      <td>895</td>\n",
       "      <td>0</td>\n",
       "    </tr>\n",
       "    <tr>\n",
       "      <th>4</th>\n",
       "      <td>896</td>\n",
       "      <td>1</td>\n",
       "    </tr>\n",
       "  </tbody>\n",
       "</table>\n",
       "</div>"
      ],
      "text/plain": [
       "   PassengerId  Survived\n",
       "0          892         0\n",
       "1          893         0\n",
       "2          894         0\n",
       "3          895         0\n",
       "4          896         1"
      ]
     },
     "execution_count": 563,
     "metadata": {},
     "output_type": "execute_result"
    }
   ],
   "source": [
    "y_test_ = pd.read_csv(\"test.csv\")\n",
    "submit = y_test_[[\"PassengerId\"]]\n",
    "y_prepared = pipeline.fit_transform(y_test_)\n",
    "submit[\"Survived\"] = weighted_voting_predict(y_prepared)\n",
    "submit.head()"
   ]
  },
  {
   "cell_type": "code",
   "execution_count": 564,
   "id": "d71d8610",
   "metadata": {},
   "outputs": [],
   "source": [
    "submit.to_csv(\"submit1.csv\", index=None)"
   ]
  },
  {
   "cell_type": "markdown",
   "id": "9ca433e3",
   "metadata": {},
   "source": [
    "This will gain a score of `0.78708` on Kaggle :)"
   ]
  }
 ],
 "metadata": {
  "kernelspec": {
   "display_name": "Python 3 (ipykernel)",
   "language": "python",
   "name": "python3"
  },
  "language_info": {
   "codemirror_mode": {
    "name": "ipython",
    "version": 3
   },
   "file_extension": ".py",
   "mimetype": "text/x-python",
   "name": "python",
   "nbconvert_exporter": "python",
   "pygments_lexer": "ipython3",
   "version": "3.11.5"
  }
 },
 "nbformat": 4,
 "nbformat_minor": 5
}
